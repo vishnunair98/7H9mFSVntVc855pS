{
 "cells": [
  {
   "cell_type": "code",
   "execution_count": 1,
   "metadata": {},
   "outputs": [],
   "source": [
    "from sklearn.model_selection import train_test_split"
   ]
  },
  {
   "cell_type": "code",
   "execution_count": 2,
   "metadata": {},
   "outputs": [],
   "source": [
    "import numpy as np"
   ]
  },
  {
   "cell_type": "code",
   "execution_count": 3,
   "metadata": {},
   "outputs": [],
   "source": [
    "from sklearn.naive_bayes import GaussianNB"
   ]
  },
  {
   "cell_type": "code",
   "execution_count": 4,
   "metadata": {},
   "outputs": [],
   "source": [
    "import pandas as pd"
   ]
  },
  {
   "cell_type": "code",
   "execution_count": 5,
   "metadata": {},
   "outputs": [],
   "source": [
    "from sklearn.metrics import f1_score"
   ]
  },
  {
   "cell_type": "code",
   "execution_count": 20,
   "metadata": {},
   "outputs": [],
   "source": [
    "import matplotlib.pyplot as plt"
   ]
  },
  {
   "cell_type": "code",
   "execution_count": 6,
   "metadata": {},
   "outputs": [],
   "source": [
    "df1 = pd.read_csv(\"/Users/vishnunair/Downloads/ACME-HappinessSurvey2020.csv\")"
   ]
  },
  {
   "cell_type": "code",
   "execution_count": 7,
   "metadata": {},
   "outputs": [
    {
     "name": "stdout",
     "output_type": "stream",
     "text": [
      "     Y  X1  X2  X3  X4  X5  X6\n",
      "0    0   3   3   3   4   2   4\n",
      "1    0   3   2   3   5   4   3\n",
      "2    1   5   3   3   3   3   5\n",
      "3    0   5   4   3   3   3   5\n",
      "4    0   5   4   3   3   3   5\n",
      "..  ..  ..  ..  ..  ..  ..  ..\n",
      "121  1   5   2   3   4   4   3\n",
      "122  1   5   2   3   4   2   5\n",
      "123  1   5   3   3   4   4   5\n",
      "124  0   4   3   3   4   4   5\n",
      "125  0   5   3   2   5   5   5\n",
      "\n",
      "[126 rows x 7 columns]\n"
     ]
    }
   ],
   "source": [
    "print(df1)"
   ]
  },
  {
   "cell_type": "code",
   "execution_count": 8,
   "metadata": {},
   "outputs": [],
   "source": [
    "Y = df1[\"Y\"]"
   ]
  },
  {
   "cell_type": "code",
   "execution_count": 9,
   "metadata": {},
   "outputs": [
    {
     "data": {
      "text/plain": [
       "0      0\n",
       "1      0\n",
       "2      1\n",
       "3      0\n",
       "4      0\n",
       "      ..\n",
       "121    1\n",
       "122    1\n",
       "123    1\n",
       "124    0\n",
       "125    0\n",
       "Name: Y, Length: 126, dtype: int64"
      ]
     },
     "execution_count": 9,
     "metadata": {},
     "output_type": "execute_result"
    }
   ],
   "source": [
    "Y"
   ]
  },
  {
   "cell_type": "code",
   "execution_count": 10,
   "metadata": {},
   "outputs": [],
   "source": [
    "X = df1[[\"X1\",\"X2\",\"X3\",\"X4\",\"X5\",\"X6\"]]"
   ]
  },
  {
   "cell_type": "code",
   "execution_count": 11,
   "metadata": {},
   "outputs": [
    {
     "data": {
      "text/html": [
       "<div>\n",
       "<style scoped>\n",
       "    .dataframe tbody tr th:only-of-type {\n",
       "        vertical-align: middle;\n",
       "    }\n",
       "\n",
       "    .dataframe tbody tr th {\n",
       "        vertical-align: top;\n",
       "    }\n",
       "\n",
       "    .dataframe thead th {\n",
       "        text-align: right;\n",
       "    }\n",
       "</style>\n",
       "<table border=\"1\" class=\"dataframe\">\n",
       "  <thead>\n",
       "    <tr style=\"text-align: right;\">\n",
       "      <th></th>\n",
       "      <th>X1</th>\n",
       "      <th>X2</th>\n",
       "      <th>X3</th>\n",
       "      <th>X4</th>\n",
       "      <th>X5</th>\n",
       "      <th>X6</th>\n",
       "    </tr>\n",
       "  </thead>\n",
       "  <tbody>\n",
       "    <tr>\n",
       "      <th>0</th>\n",
       "      <td>3</td>\n",
       "      <td>3</td>\n",
       "      <td>3</td>\n",
       "      <td>4</td>\n",
       "      <td>2</td>\n",
       "      <td>4</td>\n",
       "    </tr>\n",
       "    <tr>\n",
       "      <th>1</th>\n",
       "      <td>3</td>\n",
       "      <td>2</td>\n",
       "      <td>3</td>\n",
       "      <td>5</td>\n",
       "      <td>4</td>\n",
       "      <td>3</td>\n",
       "    </tr>\n",
       "    <tr>\n",
       "      <th>2</th>\n",
       "      <td>5</td>\n",
       "      <td>3</td>\n",
       "      <td>3</td>\n",
       "      <td>3</td>\n",
       "      <td>3</td>\n",
       "      <td>5</td>\n",
       "    </tr>\n",
       "    <tr>\n",
       "      <th>3</th>\n",
       "      <td>5</td>\n",
       "      <td>4</td>\n",
       "      <td>3</td>\n",
       "      <td>3</td>\n",
       "      <td>3</td>\n",
       "      <td>5</td>\n",
       "    </tr>\n",
       "    <tr>\n",
       "      <th>4</th>\n",
       "      <td>5</td>\n",
       "      <td>4</td>\n",
       "      <td>3</td>\n",
       "      <td>3</td>\n",
       "      <td>3</td>\n",
       "      <td>5</td>\n",
       "    </tr>\n",
       "    <tr>\n",
       "      <th>...</th>\n",
       "      <td>...</td>\n",
       "      <td>...</td>\n",
       "      <td>...</td>\n",
       "      <td>...</td>\n",
       "      <td>...</td>\n",
       "      <td>...</td>\n",
       "    </tr>\n",
       "    <tr>\n",
       "      <th>121</th>\n",
       "      <td>5</td>\n",
       "      <td>2</td>\n",
       "      <td>3</td>\n",
       "      <td>4</td>\n",
       "      <td>4</td>\n",
       "      <td>3</td>\n",
       "    </tr>\n",
       "    <tr>\n",
       "      <th>122</th>\n",
       "      <td>5</td>\n",
       "      <td>2</td>\n",
       "      <td>3</td>\n",
       "      <td>4</td>\n",
       "      <td>2</td>\n",
       "      <td>5</td>\n",
       "    </tr>\n",
       "    <tr>\n",
       "      <th>123</th>\n",
       "      <td>5</td>\n",
       "      <td>3</td>\n",
       "      <td>3</td>\n",
       "      <td>4</td>\n",
       "      <td>4</td>\n",
       "      <td>5</td>\n",
       "    </tr>\n",
       "    <tr>\n",
       "      <th>124</th>\n",
       "      <td>4</td>\n",
       "      <td>3</td>\n",
       "      <td>3</td>\n",
       "      <td>4</td>\n",
       "      <td>4</td>\n",
       "      <td>5</td>\n",
       "    </tr>\n",
       "    <tr>\n",
       "      <th>125</th>\n",
       "      <td>5</td>\n",
       "      <td>3</td>\n",
       "      <td>2</td>\n",
       "      <td>5</td>\n",
       "      <td>5</td>\n",
       "      <td>5</td>\n",
       "    </tr>\n",
       "  </tbody>\n",
       "</table>\n",
       "<p>126 rows × 6 columns</p>\n",
       "</div>"
      ],
      "text/plain": [
       "     X1  X2  X3  X4  X5  X6\n",
       "0     3   3   3   4   2   4\n",
       "1     3   2   3   5   4   3\n",
       "2     5   3   3   3   3   5\n",
       "3     5   4   3   3   3   5\n",
       "4     5   4   3   3   3   5\n",
       "..   ..  ..  ..  ..  ..  ..\n",
       "121   5   2   3   4   4   3\n",
       "122   5   2   3   4   2   5\n",
       "123   5   3   3   4   4   5\n",
       "124   4   3   3   4   4   5\n",
       "125   5   3   2   5   5   5\n",
       "\n",
       "[126 rows x 6 columns]"
      ]
     },
     "execution_count": 11,
     "metadata": {},
     "output_type": "execute_result"
    }
   ],
   "source": [
    "X"
   ]
  },
  {
   "cell_type": "code",
   "execution_count": 12,
   "metadata": {},
   "outputs": [],
   "source": [
    "from sklearn.decomposition import PCA"
   ]
  },
  {
   "cell_type": "code",
   "execution_count": 274,
   "metadata": {},
   "outputs": [],
   "source": [
    "pca = PCA(n_components=3)"
   ]
  },
  {
   "cell_type": "code",
   "execution_count": 275,
   "metadata": {},
   "outputs": [],
   "source": [
    "X_np = X.to_numpy()"
   ]
  },
  {
   "cell_type": "code",
   "execution_count": 276,
   "metadata": {},
   "outputs": [
    {
     "data": {
      "text/plain": [
       "PCA(n_components=3)"
      ]
     },
     "execution_count": 276,
     "metadata": {},
     "output_type": "execute_result"
    }
   ],
   "source": [
    "pca.fit(X_np)"
   ]
  },
  {
   "cell_type": "code",
   "execution_count": 325,
   "metadata": {},
   "outputs": [
    {
     "name": "stdout",
     "output_type": "stream",
     "text": [
      "[[0.32714778 0.2013445  0.49569455 0.30832995 0.65944777 0.27709732]\n",
      " [0.11966087 0.92114649 0.14342622 0.04901825 0.26394262 0.21102334]\n",
      " [0.30545631 0.30678229 0.64909009 0.4575309  0.41468827 0.09981101]]\n"
     ]
    }
   ],
   "source": [
    "print(abs( pca.components_ ))"
   ]
  },
  {
   "cell_type": "code",
   "execution_count": 326,
   "metadata": {},
   "outputs": [
    {
     "data": {
      "text/plain": [
       "array([0.3719842 , 0.224524  , 0.12968719])"
      ]
     },
     "execution_count": 326,
     "metadata": {},
     "output_type": "execute_result"
    }
   ],
   "source": [
    "pca.explained_variance_ratio_"
   ]
  },
  {
   "cell_type": "code",
   "execution_count": 277,
   "metadata": {},
   "outputs": [],
   "source": [
    "X_pca = pca.transform(X_np)"
   ]
  },
  {
   "cell_type": "code",
   "execution_count": 278,
   "metadata": {},
   "outputs": [
    {
     "name": "stdout",
     "output_type": "stream",
     "text": [
      "original shape:    (126, 6)\n",
      "transformed shape: (126, 3)\n"
     ]
    }
   ],
   "source": [
    "print(\"original shape:   \", X_np.shape)\n",
    "print(\"transformed shape:\", X_pca.shape)"
   ]
  },
  {
   "cell_type": "code",
   "execution_count": 279,
   "metadata": {},
   "outputs": [],
   "source": [
    "X_new = pca.inverse_transform(X_pca)"
   ]
  },
  {
   "cell_type": "code",
   "execution_count": 280,
   "metadata": {},
   "outputs": [
    {
     "data": {
      "image/png": "[encoded data removed]",
      "text/plain": [
       "<Figure size 432x288 with 1 Axes>"
      ]
     },
     "metadata": {
      "needs_background": "light"
     },
     "output_type": "display_data"
    }
   ],
   "source": [
    "plt.scatter(X_np[:, 0], X_np[:, 1], alpha=0.2)\n",
    "plt.scatter(X_new[:, 0], X_new[:, 1], alpha=0.8)\n",
    "plt.axis('equal');"
   ]
  },
  {
   "cell_type": "code",
   "execution_count": 281,
   "metadata": {},
   "outputs": [],
   "source": [
    "X_train, X_test, y_train, y_test = train_test_split(X_new, Y, test_size=0.4, random_state=0)"
   ]
  },
  {
   "cell_type": "code",
   "execution_count": 282,
   "metadata": {},
   "outputs": [],
   "source": [
    "gnb = GaussianNB()"
   ]
  },
  {
   "cell_type": "code",
   "execution_count": 283,
   "metadata": {},
   "outputs": [
    {
     "data": {
      "text/plain": [
       "array([[3.99189469, 1.94802731, 2.70170194, 3.38439146, 2.97650219,\n",
       "        4.00993977],\n",
       "       [5.01584595, 1.99828717, 3.90572578, 4.15001326, 5.02652759,\n",
       "        4.92112873],\n",
       "       [3.42570136, 2.98284465, 1.38121587, 2.46821916, 1.64603223,\n",
       "        3.26202875],\n",
       "       [4.91489484, 4.10538255, 4.61661004, 4.51117551, 4.80029695,\n",
       "        4.61621346],\n",
       "       [3.92829259, 2.03273703, 3.67703766, 4.02996443, 3.02320394,\n",
       "        4.07309893],\n",
       "       [3.73347443, 2.95701889, 2.0578552 , 2.90974089, 2.3196999 ,\n",
       "        3.58199869],\n",
       "       [4.73987394, 1.98175806, 2.74141859, 3.38570505, 4.32950904,\n",
       "        4.56957921],\n",
       "       [3.57759002, 2.03943823, 3.40026684, 3.85656323, 2.34255117,\n",
       "        3.77457585],\n",
       "       [4.46458992, 3.93122435, 2.78714543, 3.31879055, 3.68673637,\n",
       "        4.07381722],\n",
       "       [4.11092132, 2.02381618, 3.4932493 , 3.90262863, 3.3215684 ,\n",
       "        4.18782438],\n",
       "       [4.63725533, 1.03138482, 3.39622813, 3.87568065, 4.33250199,\n",
       "        4.71985336],\n",
       "       [4.68660813, 2.01455065, 3.42902071, 3.8425518 , 4.34936737,\n",
       "        4.61188223],\n",
       "       [4.07310248, 2.18083496, 2.63695424, 3.32619468, 3.09336618,\n",
       "        4.02720746],\n",
       "       [3.99189469, 1.94802731, 2.70170194, 3.38439146, 2.97650219,\n",
       "        4.00993977],\n",
       "       [5.17241835, 4.88186322, 3.77334815, 3.90058461, 5.05792219,\n",
       "        4.58433909],\n",
       "       [4.68660813, 2.01455065, 3.42902071, 3.8425518 , 4.34936737,\n",
       "        4.61188223],\n",
       "       [5.01193295, 3.01424558, 4.62612047, 4.57373115, 5.06325129,\n",
       "        4.85546061],\n",
       "       [4.74056193, 3.94775345, 3.95145262, 4.08309875, 4.38375492,\n",
       "        4.42536674],\n",
       "       [3.42080886, 2.90732982, 3.25556986, 3.71814411, 1.96622539,\n",
       "        3.50733758],\n",
       "       [3.29701702, 1.07287215, 1.74632033, 2.81857922, 1.62801046,\n",
       "        3.50157068],\n",
       "       [3.9460819 , 2.89173889, 1.44337721, 2.49830274, 2.60235537,\n",
       "        3.67312448],\n",
       "       [4.06271224, 2.94075542, 2.53456027, 3.21720234, 2.99686012,\n",
       "        3.8912452 ],\n",
       "       [4.37883507, 2.0403764 , 2.75238138, 3.40103008, 3.6756997 ,\n",
       "        4.29191228],\n",
       "       [3.75991315, 0.97378233, 2.85269773, 3.54485611, 2.66127236,\n",
       "        4.00318545],\n",
       "       [4.91782834, 1.99795089, 5.05017464, 4.91366467, 5.04704271,\n",
       "        4.99285853],\n",
       "       [4.43112137, 0.91611058, 3.21873856, 3.77039038, 3.93931083,\n",
       "        4.56058622],\n",
       "       [4.44317911, 3.21365875, 3.37720726, 3.75056937, 3.8065933 ,\n",
       "        4.24135906],\n",
       "       [4.00553344, 3.98950641, 3.94255708, 4.09776698, 3.05344215,\n",
       "        3.86788009],\n",
       "       [3.91240833, 4.06468497, 3.21265195, 3.61149345, 2.7537641 ,\n",
       "        3.69430106],\n",
       "       [4.28081746, 2.04004013, 3.89683024, 4.16468149, 3.69621482,\n",
       "        4.36364208],\n",
       "       [4.21256042, 1.88271619, 3.99239906, 4.23886008, 3.60204491,\n",
       "        4.34852718],\n",
       "       [5.01124496, 1.04825019, 3.41608645, 3.87633745, 5.00900542,\n",
       "        4.99967308],\n",
       "       [4.18309136, 1.16518171, 2.67728579, 3.40473214, 3.3790146 ,\n",
       "        4.2686074 ],\n",
       "       [4.69512213, 1.94862921, 3.19826534, 3.69250972, 4.33016584,\n",
       "        4.599006  ],\n",
       "       [4.28081746, 2.04004013, 3.89683024, 4.16468149, 3.69621482,\n",
       "        4.36364208],\n",
       "       [4.87043454, 3.19773155, 2.70946347, 3.29437942, 4.4632384 ,\n",
       "        4.47887576],\n",
       "       [4.54413022, 1.10656337, 2.666323  , 3.38940712, 4.03282394,\n",
       "        4.54627433],\n",
       "       [4.95797916, 1.08104277, 4.10368856, 4.33318419, 5.02886374,\n",
       "        5.0419761 ],\n",
       "       [4.28081746, 2.04004013, 3.89683024, 4.16468149, 3.69621482,\n",
       "        4.36364208],\n",
       "       [3.94714288, 1.91489846, 3.15854869, 3.69119613, 2.97715899,\n",
       "        4.03936656],\n",
       "       [4.52982698, 2.88244224, 3.28432372, 3.70413267, 3.97304159,\n",
       "        4.34464395],\n",
       "       [5.06588674, 4.94744838, 5.14855238, 4.8142781 , 5.09763884,\n",
       "        4.66894512],\n",
       "       [5.01653394, 3.96428255, 5.1157598 , 4.84740696, 5.08077346,\n",
       "        4.77691626],\n",
       "       [4.43670187, 2.95762079, 2.55441859, 3.21785914, 3.67336354,\n",
       "        4.17106492],\n",
       "       [4.37883507, 2.0403764 , 2.75238138, 3.40103008, 3.6756997 ,\n",
       "        4.29191228],\n",
       "       [4.38343606, 2.99041338, 3.24202071, 3.67470589, 3.69322187,\n",
       "        4.21336793],\n",
       "       [3.63545681, 2.95668262, 3.20230406, 3.6733923 , 2.34021502,\n",
       "        3.65372849],\n",
       "       [5.02435994, 1.93236573, 3.67497041, 3.99997117, 5.00732606,\n",
       "        4.90825251],\n",
       "       [3.36852256, 4.03159564, 2.78921268, 3.3487838 , 1.70261426,\n",
       "        3.23866364],\n",
       "       [4.73596094, 2.99771648, 3.46181329, 3.80942294, 4.36623274,\n",
       "        4.50391109],\n",
       "       [3.8395503 , 2.95732405, 2.81858144, 3.41199624, 2.64207202,\n",
       "        3.75773051],\n",
       "       [4.74447493, 2.93179504, 3.23105792, 3.65938086, 4.34703121,\n",
       "        4.49103486],\n",
       "       [4.74447493, 2.93179504, 3.23105792, 3.65938086, 4.34703121,\n",
       "        4.49103486],\n",
       "       [4.59250352, 0.99825596, 3.85307487, 4.18248532, 4.33315878,\n",
       "        4.74928015],\n",
       "       [3.68480962, 3.93984845, 3.23509664, 3.64026344, 2.35708039,\n",
       "        3.54575735],\n",
       "       [4.36588431, 1.96489269, 2.72156027, 3.38504826, 3.65300562,\n",
       "        4.28975949],\n",
       "       [4.28473046, 1.02408172, 3.17643555, 3.74096359, 3.65949111,\n",
       "        4.42931021],\n",
       "       [4.59319151, 2.96425135, 5.06310889, 4.87987902, 4.38740466,\n",
       "        4.60506767],\n",
       "       [4.97109414, 1.96515831, 4.36257253, 4.45681792, 5.02718438,\n",
       "        4.95055552],\n",
       "       [4.59808401, 3.03976618, 3.18875491, 3.62995408, 4.06721149,\n",
       "        4.35975885],\n",
       "       [4.47310391, 3.86530291, 2.55639006, 3.16874847, 3.66753484,\n",
       "        4.06094099],\n",
       "       [4.00944644, 2.973548  , 3.22216238, 3.67404909, 3.01671844,\n",
       "        3.93354821],\n",
       "       [4.13833955, 1.13205285, 3.13413253, 3.71153681, 3.37967139,\n",
       "        4.29803419],\n",
       "       [4.73596094, 2.99771648, 3.46181329, 3.80942294, 4.36623274,\n",
       "        4.50391109],\n",
       "       [4.74838793, 1.91583663, 2.51066323, 3.23566297, 4.31030751,\n",
       "        4.55670298],\n",
       "       [4.60614227, 3.03973506, 5.09393001, 4.89586084, 4.41009874,\n",
       "        4.60722047],\n",
       "       [4.65134982, 3.0069736 , 2.50115279, 3.17310733, 4.04735317,\n",
       "        4.31745583],\n",
       "       [4.98940722, 3.98152373, 3.11088325, 3.51489803, 4.68495513,\n",
       "        4.49994197],\n",
       "       [3.95618064, 3.00634058, 3.9097645 , 4.13089584, 3.03657677,\n",
       "        3.97585122],\n",
       "       [4.4023403 , 2.16457148, 3.11365931, 3.63365614, 3.77052639,\n",
       "        4.33645397],\n",
       "       [4.43601387, 0.99162541, 1.34438457, 2.52046544, 3.61911767,\n",
       "        4.31527739],\n",
       "       [4.28473046, 1.02408172, 3.17643555, 3.74096359, 3.65949111,\n",
       "        4.42931021],\n",
       "       [4.86847553, 1.01478506, 5.01738206, 4.94679352, 5.03017733,\n",
       "        5.10082967],\n",
       "       [2.67010115, 0.79297087, 1.444607  , 2.65275048, 0.46763852,\n",
       "        3.03664549],\n",
       "       [3.8957496 , 0.81709982, 2.56454392, 3.35763865, 2.86895946,\n",
       "        4.09207257]])"
      ]
     },
     "execution_count": 283,
     "metadata": {},
     "output_type": "execute_result"
    }
   ],
   "source": [
    "X_train"
   ]
  },
  {
   "cell_type": "code",
   "execution_count": 284,
   "metadata": {},
   "outputs": [
    {
     "data": {
      "text/plain": [
       "73     0\n",
       "108    0\n",
       "89     0\n",
       "97     1\n",
       "1      0\n",
       "      ..\n",
       "67     0\n",
       "64     1\n",
       "117    1\n",
       "47     0\n",
       "44     1\n",
       "Name: Y, Length: 75, dtype: int64"
      ]
     },
     "execution_count": 284,
     "metadata": {},
     "output_type": "execute_result"
    }
   ],
   "source": [
    "y_train"
   ]
  },
  {
   "cell_type": "code",
   "execution_count": 285,
   "metadata": {},
   "outputs": [
    {
     "data": {
      "text/plain": [
       "GaussianNB()"
      ]
     },
     "execution_count": 285,
     "metadata": {},
     "output_type": "execute_result"
    }
   ],
   "source": [
    "gnb.fit(X_train, y_train)"
   ]
  },
  {
   "cell_type": "code",
   "execution_count": 286,
   "metadata": {},
   "outputs": [
    {
     "data": {
      "text/plain": [
       "(75, 6)"
      ]
     },
     "execution_count": 286,
     "metadata": {},
     "output_type": "execute_result"
    }
   ],
   "source": [
    "np.shape(X_train)"
   ]
  },
  {
   "cell_type": "code",
   "execution_count": 287,
   "metadata": {},
   "outputs": [
    {
     "data": {
      "text/plain": [
       "(75,)"
      ]
     },
     "execution_count": 287,
     "metadata": {},
     "output_type": "execute_result"
    }
   ],
   "source": [
    "np.shape(y_train)"
   ]
  },
  {
   "cell_type": "code",
   "execution_count": 288,
   "metadata": {},
   "outputs": [],
   "source": [
    "y_pred_2 = gnb.predict(X_test)"
   ]
  },
  {
   "cell_type": "code",
   "execution_count": 289,
   "metadata": {},
   "outputs": [],
   "source": [
    "score_2 = f1_score(y_pred_2, y_test)"
   ]
  },
  {
   "cell_type": "code",
   "execution_count": 290,
   "metadata": {},
   "outputs": [
    {
     "name": "stdout",
     "output_type": "stream",
     "text": [
      "GaussianNB F1 score:  0.65\n"
     ]
    }
   ],
   "source": [
    "print (\"GaussianNB F1 score: {: .2f}\".format(score_2))"
   ]
  },
  {
   "cell_type": "code",
   "execution_count": 291,
   "metadata": {},
   "outputs": [],
   "source": [
    "from sklearn.tree import DecisionTreeClassifier"
   ]
  },
  {
   "cell_type": "code",
   "execution_count": 292,
   "metadata": {},
   "outputs": [],
   "source": [
    "dtc = DecisionTreeClassifier()"
   ]
  },
  {
   "cell_type": "code",
   "execution_count": 293,
   "metadata": {},
   "outputs": [
    {
     "data": {
      "text/plain": [
       "DecisionTreeClassifier()"
      ]
     },
     "execution_count": 293,
     "metadata": {},
     "output_type": "execute_result"
    }
   ],
   "source": [
    "dtc.fit(X_train, y_train)"
   ]
  },
  {
   "cell_type": "code",
   "execution_count": 294,
   "metadata": {},
   "outputs": [],
   "source": [
    "y_pred = dtc.predict(X_test)"
   ]
  },
  {
   "cell_type": "code",
   "execution_count": 295,
   "metadata": {},
   "outputs": [],
   "source": [
    "score = f1_score(y_pred, y_test)"
   ]
  },
  {
   "cell_type": "code",
   "execution_count": 296,
   "metadata": {},
   "outputs": [
    {
     "name": "stdout",
     "output_type": "stream",
     "text": [
      "Decision Tree F1 score: 0.45\n"
     ]
    }
   ],
   "source": [
    "print (\"Decision Tree F1 score: {:.2f}\".format(score))"
   ]
  },
  {
   "cell_type": "code",
   "execution_count": 297,
   "metadata": {},
   "outputs": [],
   "source": [
    "from sklearn.svm import SVC"
   ]
  },
  {
   "cell_type": "code",
   "execution_count": 298,
   "metadata": {},
   "outputs": [],
   "source": [
    "svm = SVC(kernel='sigmoid', C=1000)"
   ]
  },
  {
   "cell_type": "code",
   "execution_count": 299,
   "metadata": {},
   "outputs": [
    {
     "data": {
      "text/plain": [
       "SVC(C=1000, kernel='sigmoid')"
      ]
     },
     "execution_count": 299,
     "metadata": {},
     "output_type": "execute_result"
    }
   ],
   "source": [
    "svm.fit(X_train, y_train)"
   ]
  },
  {
   "cell_type": "code",
   "execution_count": 300,
   "metadata": {},
   "outputs": [],
   "source": [
    "y_pred = svm.predict(X_test) "
   ]
  },
  {
   "cell_type": "code",
   "execution_count": 301,
   "metadata": {},
   "outputs": [],
   "source": [
    "score = f1_score(y_pred, y_test)"
   ]
  },
  {
   "cell_type": "code",
   "execution_count": 302,
   "metadata": {
    "scrolled": true
   },
   "outputs": [
    {
     "name": "stdout",
     "output_type": "stream",
     "text": [
      "SVM F1 score: 0.66\n"
     ]
    }
   ],
   "source": [
    "print (\"SVM F1 score: {:.2f}\".format(score))"
   ]
  },
  {
   "cell_type": "code",
   "execution_count": 303,
   "metadata": {
    "scrolled": true
   },
   "outputs": [],
   "source": [
    "#print(\"Training accuracy is: \", model.score(X_train, y_train))"
   ]
  },
  {
   "cell_type": "code",
   "execution_count": 304,
   "metadata": {},
   "outputs": [],
   "source": [
    "from sklearn.linear_model import LogisticRegression"
   ]
  },
  {
   "cell_type": "code",
   "execution_count": 305,
   "metadata": {},
   "outputs": [],
   "source": [
    "logreg = LogisticRegression()"
   ]
  },
  {
   "cell_type": "code",
   "execution_count": 306,
   "metadata": {},
   "outputs": [
    {
     "data": {
      "text/plain": [
       "LogisticRegression()"
      ]
     },
     "execution_count": 306,
     "metadata": {},
     "output_type": "execute_result"
    }
   ],
   "source": [
    "logreg.fit(X_train, y_train)"
   ]
  },
  {
   "cell_type": "code",
   "execution_count": 307,
   "metadata": {},
   "outputs": [],
   "source": [
    "ypred = logreg.predict(X_test)"
   ]
  },
  {
   "cell_type": "code",
   "execution_count": 308,
   "metadata": {},
   "outputs": [],
   "source": [
    "score = f1_score(y_pred, y_test)"
   ]
  },
  {
   "cell_type": "code",
   "execution_count": 309,
   "metadata": {},
   "outputs": [
    {
     "name": "stdout",
     "output_type": "stream",
     "text": [
      "Logistic Reg F1 score: 0.66\n"
     ]
    }
   ],
   "source": [
    "print (\"Logistic Reg F1 score: {:.2f}\".format(score))"
   ]
  },
  {
   "cell_type": "code",
   "execution_count": 310,
   "metadata": {},
   "outputs": [],
   "source": [
    "#print(\"Accuracy of training: \", model.score(X_train, y_train))"
   ]
  },
  {
   "cell_type": "code",
   "execution_count": 311,
   "metadata": {},
   "outputs": [],
   "source": [
    "from sklearn.neighbors import KNeighborsClassifier"
   ]
  },
  {
   "cell_type": "code",
   "execution_count": 312,
   "metadata": {},
   "outputs": [],
   "source": [
    "knn = KNeighborsClassifier(n_neighbors=10)"
   ]
  },
  {
   "cell_type": "code",
   "execution_count": 313,
   "metadata": {},
   "outputs": [
    {
     "data": {
      "text/plain": [
       "KNeighborsClassifier(n_neighbors=10)"
      ]
     },
     "execution_count": 313,
     "metadata": {},
     "output_type": "execute_result"
    }
   ],
   "source": [
    "knn.fit(X_train, y_train)"
   ]
  },
  {
   "cell_type": "code",
   "execution_count": 314,
   "metadata": {},
   "outputs": [],
   "source": [
    "y_pred = knn.predict(X_test)"
   ]
  },
  {
   "cell_type": "code",
   "execution_count": 315,
   "metadata": {},
   "outputs": [],
   "source": [
    "score = f1_score(y_pred, y_test)"
   ]
  },
  {
   "cell_type": "code",
   "execution_count": 316,
   "metadata": {},
   "outputs": [
    {
     "name": "stdout",
     "output_type": "stream",
     "text": [
      "KNN F1 score: 0.60\n"
     ]
    }
   ],
   "source": [
    "print (\"KNN F1 score: {:.2f}\".format(score))"
   ]
  },
  {
   "cell_type": "code",
   "execution_count": 317,
   "metadata": {},
   "outputs": [],
   "source": [
    "kernel = ['linear', 'rbf', 'poly', 'sigmoid']"
   ]
  },
  {
   "cell_type": "code",
   "execution_count": 318,
   "metadata": {},
   "outputs": [
    {
     "name": "stdout",
     "output_type": "stream",
     "text": [
      "For kernel: linear\n",
      "Accuracy of testing is: 0.5294117647058824\n",
      "Accuracy of training is: 0.6266666666666667\n",
      "For kernel: rbf\n",
      "Accuracy of testing is: 0.5294117647058824\n",
      "Accuracy of training is: 0.6266666666666667\n",
      "For kernel: poly\n",
      "Accuracy of testing is: 0.49019607843137253\n",
      "Accuracy of training is: 0.6933333333333334\n",
      "For kernel: sigmoid\n",
      "Accuracy of testing is: 0.49019607843137253\n",
      "Accuracy of training is: 0.5866666666666667\n"
     ]
    }
   ],
   "source": [
    "for i in kernel:\n",
    "    model = SVC(kernel=i, C=1.0)\n",
    "    model.fit(X_train, y_train)\n",
    "    print(\"For kernel:\", i)\n",
    "    print(\"Accuracy of testing is:\", model.score(X_test, y_test))\n",
    "    print(\"Accuracy of training is:\", model.score(X_train, y_train))"
   ]
  },
  {
   "cell_type": "code",
   "execution_count": 319,
   "metadata": {},
   "outputs": [],
   "source": [
    "from sklearn.model_selection import GridSearchCV"
   ]
  },
  {
   "cell_type": "code",
   "execution_count": 320,
   "metadata": {},
   "outputs": [],
   "source": [
    "param_grid = {'C':[0.1, 1, 100, 1000], 'kernel':['rbf', 'poly', 'sigmoid', 'linear'], 'degree':[1,2,3]}"
   ]
  },
  {
   "cell_type": "code",
   "execution_count": 321,
   "metadata": {},
   "outputs": [],
   "source": [
    "grid = GridSearchCV(SVC(), param_grid)"
   ]
  },
  {
   "cell_type": "code",
   "execution_count": 327,
   "metadata": {},
   "outputs": [
    {
     "data": {
      "text/plain": [
       "GridSearchCV(estimator=SVC(),\n",
       "             param_grid={'C': [0.1, 1, 100, 1000], 'degree': [1, 2, 3],\n",
       "                         'kernel': ['rbf', 'poly', 'sigmoid', 'linear']})"
      ]
     },
     "execution_count": 327,
     "metadata": {},
     "output_type": "execute_result"
    }
   ],
   "source": [
    "grid.fit(X_train, y_train)"
   ]
  },
  {
   "cell_type": "code",
   "execution_count": 328,
   "metadata": {},
   "outputs": [
    {
     "name": "stdout",
     "output_type": "stream",
     "text": [
      "{'C': 0.1, 'degree': 1, 'kernel': 'rbf'}\n"
     ]
    }
   ],
   "source": [
    "print(grid.best_params_)"
   ]
  },
  {
   "cell_type": "code",
   "execution_count": 329,
   "metadata": {},
   "outputs": [
    {
     "name": "stdout",
     "output_type": "stream",
     "text": [
      "0.49019607843137253\n"
     ]
    }
   ],
   "source": [
    "print(grid.score(X_test, y_test))"
   ]
  },
  {
   "cell_type": "code",
   "execution_count": 330,
   "metadata": {},
   "outputs": [
    {
     "name": "stdout",
     "output_type": "stream",
     "text": [
      "0.5866666666666667\n"
     ]
    }
   ],
   "source": [
    "print(grid.score(X_train, y_train))"
   ]
  },
  {
   "cell_type": "code",
   "execution_count": 331,
   "metadata": {},
   "outputs": [],
   "source": [
    "svm = SVC(kernel='rbf', C=10)"
   ]
  },
  {
   "cell_type": "code",
   "execution_count": 332,
   "metadata": {},
   "outputs": [
    {
     "data": {
      "text/plain": [
       "SVC(C=10)"
      ]
     },
     "execution_count": 332,
     "metadata": {},
     "output_type": "execute_result"
    }
   ],
   "source": [
    "svm.fit(X_train, y_train)"
   ]
  },
  {
   "cell_type": "code",
   "execution_count": 333,
   "metadata": {},
   "outputs": [],
   "source": [
    "y_pred = svm.predict(X_test)"
   ]
  },
  {
   "cell_type": "code",
   "execution_count": 334,
   "metadata": {},
   "outputs": [],
   "source": [
    "score = f1_score(y_pred, y_test)"
   ]
  },
  {
   "cell_type": "code",
   "execution_count": 335,
   "metadata": {
    "scrolled": true
   },
   "outputs": [
    {
     "name": "stdout",
     "output_type": "stream",
     "text": [
      "SVM F1 score: 0.70\n"
     ]
    }
   ],
   "source": [
    "print (\"SVM F1 score: {:.2f}\".format(score))"
   ]
  }
 ],
 "metadata": {
  "kernelspec": {
   "display_name": "Python 3",
   "language": "python",
   "name": "python3"
  },
  "language_info": {
   "codemirror_mode": {
    "name": "ipython",
    "version": 3
   },
   "file_extension": ".py",
   "mimetype": "text/x-python",
   "name": "python",
   "nbconvert_exporter": "python",
   "pygments_lexer": "ipython3",
   "version": "3.8.3"
  }
 },
 "nbformat": 4,
 "nbformat_minor": 4
}
